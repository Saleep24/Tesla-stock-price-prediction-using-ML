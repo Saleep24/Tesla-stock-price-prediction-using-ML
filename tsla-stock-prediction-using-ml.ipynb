{
 "cells": [
  {
   "cell_type": "code",
   "execution_count": 1,
   "id": "dfabd59a",
   "metadata": {
    "_cell_guid": "b1076dfc-b9ad-4769-8c92-a6c4dae69d19",
    "_uuid": "8f2839f25d086af736a60e9eeb907d3b93b6e0e5",
    "execution": {
     "iopub.execute_input": "2024-05-17T03:31:17.047242Z",
     "iopub.status.busy": "2024-05-17T03:31:17.046837Z",
     "iopub.status.idle": "2024-05-17T03:31:53.668519Z",
     "shell.execute_reply": "2024-05-17T03:31:53.667486Z"
    },
    "papermill": {
     "duration": 36.634709,
     "end_time": "2024-05-17T03:31:53.671061",
     "exception": false,
     "start_time": "2024-05-17T03:31:17.036352",
     "status": "completed"
    },
    "tags": []
   },
   "outputs": [
    {
     "name": "stdout",
     "output_type": "stream",
     "text": [
      "Collecting yfinance\r\n",
      "  Downloading yfinance-0.2.38-py2.py3-none-any.whl.metadata (11 kB)\r\n",
      "Requirement already satisfied: pandas>=1.3.0 in /opt/conda/lib/python3.10/site-packages (from yfinance) (2.2.2)\r\n",
      "Requirement already satisfied: numpy>=1.16.5 in /opt/conda/lib/python3.10/site-packages (from yfinance) (1.26.4)\r\n",
      "Requirement already satisfied: requests>=2.31 in /opt/conda/lib/python3.10/site-packages (from yfinance) (2.31.0)\r\n",
      "Collecting multitasking>=0.0.7 (from yfinance)\r\n",
      "  Downloading multitasking-0.0.11-py3-none-any.whl.metadata (5.5 kB)\r\n",
      "Requirement already satisfied: lxml>=4.9.1 in /opt/conda/lib/python3.10/site-packages (from yfinance) (5.2.1)\r\n",
      "Requirement already satisfied: appdirs>=1.4.4 in /opt/conda/lib/python3.10/site-packages (from yfinance) (1.4.4)\r\n",
      "Requirement already satisfied: pytz>=2022.5 in /opt/conda/lib/python3.10/site-packages (from yfinance) (2023.3.post1)\r\n",
      "Requirement already satisfied: frozendict>=2.3.4 in /opt/conda/lib/python3.10/site-packages (from yfinance) (2.4.2)\r\n",
      "Collecting peewee>=3.16.2 (from yfinance)\r\n",
      "  Downloading peewee-3.17.5.tar.gz (3.0 MB)\r\n",
      "\u001b[2K     \u001b[90m━━━━━━━━━━━━━━━━━━━━━━━━━━━━━━━━━━━━━━━━\u001b[0m \u001b[32m3.0/3.0 MB\u001b[0m \u001b[31m25.2 MB/s\u001b[0m eta \u001b[36m0:00:00\u001b[0m\r\n",
      "\u001b[?25h  Installing build dependencies ... \u001b[?25l-\b \b\\\b \b|\b \b/\b \b-\b \bdone\r\n",
      "\u001b[?25h  Getting requirements to build wheel ... \u001b[?25l-\b \bdone\r\n",
      "\u001b[?25h  Preparing metadata (pyproject.toml) ... \u001b[?25l-\b \bdone\r\n",
      "\u001b[?25hRequirement already satisfied: beautifulsoup4>=4.11.1 in /opt/conda/lib/python3.10/site-packages (from yfinance) (4.12.2)\r\n",
      "Requirement already satisfied: html5lib>=1.1 in /opt/conda/lib/python3.10/site-packages (from yfinance) (1.1)\r\n",
      "Requirement already satisfied: soupsieve>1.2 in /opt/conda/lib/python3.10/site-packages (from beautifulsoup4>=4.11.1->yfinance) (2.5)\r\n",
      "Requirement already satisfied: six>=1.9 in /opt/conda/lib/python3.10/site-packages (from html5lib>=1.1->yfinance) (1.16.0)\r\n",
      "Requirement already satisfied: webencodings in /opt/conda/lib/python3.10/site-packages (from html5lib>=1.1->yfinance) (0.5.1)\r\n",
      "Requirement already satisfied: python-dateutil>=2.8.2 in /opt/conda/lib/python3.10/site-packages (from pandas>=1.3.0->yfinance) (2.9.0.post0)\r\n",
      "Requirement already satisfied: tzdata>=2022.7 in /opt/conda/lib/python3.10/site-packages (from pandas>=1.3.0->yfinance) (2023.4)\r\n",
      "Requirement already satisfied: charset-normalizer<4,>=2 in /opt/conda/lib/python3.10/site-packages (from requests>=2.31->yfinance) (3.3.2)\r\n",
      "Requirement already satisfied: idna<4,>=2.5 in /opt/conda/lib/python3.10/site-packages (from requests>=2.31->yfinance) (3.6)\r\n",
      "Requirement already satisfied: urllib3<3,>=1.21.1 in /opt/conda/lib/python3.10/site-packages (from requests>=2.31->yfinance) (1.26.18)\r\n",
      "Requirement already satisfied: certifi>=2017.4.17 in /opt/conda/lib/python3.10/site-packages (from requests>=2.31->yfinance) (2024.2.2)\r\n",
      "Downloading yfinance-0.2.38-py2.py3-none-any.whl (72 kB)\r\n",
      "\u001b[2K   \u001b[90m━━━━━━━━━━━━━━━━━━━━━━━━━━━━━━━━━━━━━━━━\u001b[0m \u001b[32m73.0/73.0 kB\u001b[0m \u001b[31m908.7 kB/s\u001b[0m eta \u001b[36m0:00:00\u001b[0m\r\n",
      "\u001b[?25hDownloading multitasking-0.0.11-py3-none-any.whl (8.5 kB)\r\n",
      "Building wheels for collected packages: peewee\r\n",
      "  Building wheel for peewee (pyproject.toml) ... \u001b[?25l-\b \b\\\b \b|\b \b/\b \bdone\r\n",
      "\u001b[?25h  Created wheel for peewee: filename=peewee-3.17.5-cp310-cp310-linux_x86_64.whl size=293378 sha256=1a45a559a20e89b1761a64d70004120079e8b58e1109adfeccbbed60c24a77b9\r\n",
      "  Stored in directory: /root/.cache/pip/wheels/06/80/9b/98db0d58349a2f5c09f8406789ade4270762f97b7d26f2fa22\r\n",
      "Successfully built peewee\r\n",
      "Installing collected packages: peewee, multitasking, yfinance\r\n",
      "Successfully installed multitasking-0.0.11 peewee-3.17.5 yfinance-0.2.38\r\n"
     ]
    }
   ],
   "source": [
    "!pip install yfinance"
   ]
  },
  {
   "cell_type": "code",
   "execution_count": 2,
   "id": "c630be21",
   "metadata": {
    "execution": {
     "iopub.execute_input": "2024-05-17T03:31:53.692647Z",
     "iopub.status.busy": "2024-05-17T03:31:53.692252Z",
     "iopub.status.idle": "2024-05-17T03:31:56.384352Z",
     "shell.execute_reply": "2024-05-17T03:31:56.383243Z"
    },
    "papermill": {
     "duration": 2.705777,
     "end_time": "2024-05-17T03:31:56.386835",
     "exception": false,
     "start_time": "2024-05-17T03:31:53.681058",
     "status": "completed"
    },
    "tags": []
   },
   "outputs": [],
   "source": [
    "import yfinance as yf\n",
    "import matplotlib\n",
    "from matplotlib import pyplot as plt\n",
    "import numpy as np\n",
    "from sklearn.ensemble import RandomForestClassifier\n",
    "from sklearn.metrics import precision_score\n",
    "import pandas as pd"
   ]
  },
  {
   "cell_type": "code",
   "execution_count": 3,
   "id": "5fdbf846",
   "metadata": {
    "execution": {
     "iopub.execute_input": "2024-05-17T03:31:56.408508Z",
     "iopub.status.busy": "2024-05-17T03:31:56.407789Z",
     "iopub.status.idle": "2024-05-17T03:31:56.413714Z",
     "shell.execute_reply": "2024-05-17T03:31:56.412741Z"
    },
    "papermill": {
     "duration": 0.019281,
     "end_time": "2024-05-17T03:31:56.415940",
     "exception": false,
     "start_time": "2024-05-17T03:31:56.396659",
     "status": "completed"
    },
    "tags": []
   },
   "outputs": [],
   "source": [
    "TSLA = yf.Ticker(\"TSLA\")"
   ]
  },
  {
   "cell_type": "code",
   "execution_count": 4,
   "id": "7c5a3f70",
   "metadata": {
    "execution": {
     "iopub.execute_input": "2024-05-17T03:31:56.438691Z",
     "iopub.status.busy": "2024-05-17T03:31:56.438057Z",
     "iopub.status.idle": "2024-05-17T03:31:57.415067Z",
     "shell.execute_reply": "2024-05-17T03:31:57.413383Z"
    },
    "papermill": {
     "duration": 0.991058,
     "end_time": "2024-05-17T03:31:57.418079",
     "exception": false,
     "start_time": "2024-05-17T03:31:56.427021",
     "status": "completed"
    },
    "tags": []
   },
   "outputs": [],
   "source": [
    "TSLA = TSLA.history(period = \"max\")"
   ]
  },
  {
   "cell_type": "code",
   "execution_count": 5,
   "id": "9dd68f8a",
   "metadata": {
    "execution": {
     "iopub.execute_input": "2024-05-17T03:31:57.440206Z",
     "iopub.status.busy": "2024-05-17T03:31:57.439776Z",
     "iopub.status.idle": "2024-05-17T03:31:57.444417Z",
     "shell.execute_reply": "2024-05-17T03:31:57.443228Z"
    },
    "papermill": {
     "duration": 0.01791,
     "end_time": "2024-05-17T03:31:57.446582",
     "exception": false,
     "start_time": "2024-05-17T03:31:57.428672",
     "status": "completed"
    },
    "tags": []
   },
   "outputs": [],
   "source": [
    "# TSLA"
   ]
  },
  {
   "cell_type": "code",
   "execution_count": 6,
   "id": "b8f88708",
   "metadata": {
    "execution": {
     "iopub.execute_input": "2024-05-17T03:31:57.468613Z",
     "iopub.status.busy": "2024-05-17T03:31:57.468197Z",
     "iopub.status.idle": "2024-05-17T03:31:57.479828Z",
     "shell.execute_reply": "2024-05-17T03:31:57.478898Z"
    },
    "papermill": {
     "duration": 0.025385,
     "end_time": "2024-05-17T03:31:57.482524",
     "exception": false,
     "start_time": "2024-05-17T03:31:57.457139",
     "status": "completed"
    },
    "tags": []
   },
   "outputs": [],
   "source": [
    "TSLA.index = pd.to_datetime(TSLA.index)"
   ]
  },
  {
   "cell_type": "code",
   "execution_count": 7,
   "id": "67c224ef",
   "metadata": {
    "execution": {
     "iopub.execute_input": "2024-05-17T03:31:57.505201Z",
     "iopub.status.busy": "2024-05-17T03:31:57.504733Z",
     "iopub.status.idle": "2024-05-17T03:31:58.030767Z",
     "shell.execute_reply": "2024-05-17T03:31:58.028231Z"
    },
    "papermill": {
     "duration": 0.540992,
     "end_time": "2024-05-17T03:31:58.033615",
     "exception": false,
     "start_time": "2024-05-17T03:31:57.492623",
     "status": "completed"
    },
    "tags": []
   },
   "outputs": [
    {
     "data": {
      "text/plain": [
       "<Axes: xlabel='Date'>"
      ]
     },
     "execution_count": 7,
     "metadata": {},
     "output_type": "execute_result"
    },
    {
     "data": {
      "image/png": "[encoded data removed]",
      "text/plain": [
       "<Figure size 640x480 with 1 Axes>"
      ]
     },
     "metadata": {},
     "output_type": "display_data"
    }
   ],
   "source": [
    "TSLA.plot.line(y=\"Close\", use_index = True)"
   ]
  },
  {
   "cell_type": "code",
   "execution_count": 8,
   "id": "6049c7d7",
   "metadata": {
    "execution": {
     "iopub.execute_input": "2024-05-17T03:31:58.057628Z",
     "iopub.status.busy": "2024-05-17T03:31:58.056953Z",
     "iopub.status.idle": "2024-05-17T03:31:58.062299Z",
     "shell.execute_reply": "2024-05-17T03:31:58.061413Z"
    },
    "papermill": {
     "duration": 0.020204,
     "end_time": "2024-05-17T03:31:58.064639",
     "exception": false,
     "start_time": "2024-05-17T03:31:58.044435",
     "status": "completed"
    },
    "tags": []
   },
   "outputs": [],
   "source": [
    "del TSLA [\"Dividends\"]"
   ]
  },
  {
   "cell_type": "code",
   "execution_count": 9,
   "id": "9dfa1e2d",
   "metadata": {
    "execution": {
     "iopub.execute_input": "2024-05-17T03:31:58.088030Z",
     "iopub.status.busy": "2024-05-17T03:31:58.086984Z",
     "iopub.status.idle": "2024-05-17T03:31:58.092423Z",
     "shell.execute_reply": "2024-05-17T03:31:58.091218Z"
    },
    "papermill": {
     "duration": 0.019679,
     "end_time": "2024-05-17T03:31:58.094865",
     "exception": false,
     "start_time": "2024-05-17T03:31:58.075186",
     "status": "completed"
    },
    "tags": []
   },
   "outputs": [],
   "source": [
    "# TSLA"
   ]
  },
  {
   "cell_type": "code",
   "execution_count": 10,
   "id": "22994216",
   "metadata": {
    "execution": {
     "iopub.execute_input": "2024-05-17T03:31:58.117497Z",
     "iopub.status.busy": "2024-05-17T03:31:58.117122Z",
     "iopub.status.idle": "2024-05-17T03:31:58.123092Z",
     "shell.execute_reply": "2024-05-17T03:31:58.122136Z"
    },
    "papermill": {
     "duration": 0.019813,
     "end_time": "2024-05-17T03:31:58.125178",
     "exception": false,
     "start_time": "2024-05-17T03:31:58.105365",
     "status": "completed"
    },
    "tags": []
   },
   "outputs": [],
   "source": [
    "TSLA[\"Tomorrow\"] = TSLA[\"Close\"].shift(-1)"
   ]
  },
  {
   "cell_type": "code",
   "execution_count": 11,
   "id": "b9d2569a",
   "metadata": {
    "execution": {
     "iopub.execute_input": "2024-05-17T03:31:58.148604Z",
     "iopub.status.busy": "2024-05-17T03:31:58.147346Z",
     "iopub.status.idle": "2024-05-17T03:31:58.153992Z",
     "shell.execute_reply": "2024-05-17T03:31:58.153103Z"
    },
    "papermill": {
     "duration": 0.020361,
     "end_time": "2024-05-17T03:31:58.155961",
     "exception": false,
     "start_time": "2024-05-17T03:31:58.135600",
     "status": "completed"
    },
    "tags": []
   },
   "outputs": [],
   "source": [
    "TSLA[\"Target\"] = (TSLA[\"Tomorrow\"] > TSLA[\"Close\"]).astype(int)"
   ]
  },
  {
   "cell_type": "code",
   "execution_count": 12,
   "id": "c2fbd8c0",
   "metadata": {
    "execution": {
     "iopub.execute_input": "2024-05-17T03:31:58.179294Z",
     "iopub.status.busy": "2024-05-17T03:31:58.178828Z",
     "iopub.status.idle": "2024-05-17T03:31:58.190783Z",
     "shell.execute_reply": "2024-05-17T03:31:58.189490Z"
    },
    "papermill": {
     "duration": 0.026702,
     "end_time": "2024-05-17T03:31:58.193246",
     "exception": false,
     "start_time": "2024-05-17T03:31:58.166544",
     "status": "completed"
    },
    "tags": []
   },
   "outputs": [],
   "source": [
    "TSLA = TSLA.loc[\"2019-01-01\":].copy()"
   ]
  },
  {
   "cell_type": "code",
   "execution_count": 13,
   "id": "b58ec9bb",
   "metadata": {
    "execution": {
     "iopub.execute_input": "2024-05-17T03:31:58.215896Z",
     "iopub.status.busy": "2024-05-17T03:31:58.215478Z",
     "iopub.status.idle": "2024-05-17T03:31:58.628776Z",
     "shell.execute_reply": "2024-05-17T03:31:58.627468Z"
    },
    "papermill": {
     "duration": 0.427508,
     "end_time": "2024-05-17T03:31:58.631141",
     "exception": false,
     "start_time": "2024-05-17T03:31:58.203633",
     "status": "completed"
    },
    "tags": []
   },
   "outputs": [
    {
     "data": {
      "text/html": [
       "<style>#sk-container-id-1 {color: black;background-color: white;}#sk-container-id-1 pre{padding: 0;}#sk-container-id-1 div.sk-toggleable {background-color: white;}#sk-container-id-1 label.sk-toggleable__label {cursor: pointer;display: block;width: 100%;margin-bottom: 0;padding: 0.3em;box-sizing: border-box;text-align: center;}#sk-container-id-1 label.sk-toggleable__label-arrow:before {content: \"▸\";float: left;margin-right: 0.25em;color: #696969;}#sk-container-id-1 label.sk-toggleable__label-arrow:hover:before {color: black;}#sk-container-id-1 div.sk-estimator:hover label.sk-toggleable__label-arrow:before {color: black;}#sk-container-id-1 div.sk-toggleable__content {max-height: 0;max-width: 0;overflow: hidden;text-align: left;background-color: #f0f8ff;}#sk-container-id-1 div.sk-toggleable__content pre {margin: 0.2em;color: black;border-radius: 0.25em;background-color: #f0f8ff;}#sk-container-id-1 input.sk-toggleable__control:checked~div.sk-toggleable__content {max-height: 200px;max-width: 100%;overflow: auto;}#sk-container-id-1 input.sk-toggleable__control:checked~label.sk-toggleable__label-arrow:before {content: \"▾\";}#sk-container-id-1 div.sk-estimator input.sk-toggleable__control:checked~label.sk-toggleable__label {background-color: #d4ebff;}#sk-container-id-1 div.sk-label input.sk-toggleable__control:checked~label.sk-toggleable__label {background-color: #d4ebff;}#sk-container-id-1 input.sk-hidden--visually {border: 0;clip: rect(1px 1px 1px 1px);clip: rect(1px, 1px, 1px, 1px);height: 1px;margin: -1px;overflow: hidden;padding: 0;position: absolute;width: 1px;}#sk-container-id-1 div.sk-estimator {font-family: monospace;background-color: #f0f8ff;border: 1px dotted black;border-radius: 0.25em;box-sizing: border-box;margin-bottom: 0.5em;}#sk-container-id-1 div.sk-estimator:hover {background-color: #d4ebff;}#sk-container-id-1 div.sk-parallel-item::after {content: \"\";width: 100%;border-bottom: 1px solid gray;flex-grow: 1;}#sk-container-id-1 div.sk-label:hover label.sk-toggleable__label {background-color: #d4ebff;}#sk-container-id-1 div.sk-serial::before {content: \"\";position: absolute;border-left: 1px solid gray;box-sizing: border-box;top: 0;bottom: 0;left: 50%;z-index: 0;}#sk-container-id-1 div.sk-serial {display: flex;flex-direction: column;align-items: center;background-color: white;padding-right: 0.2em;padding-left: 0.2em;position: relative;}#sk-container-id-1 div.sk-item {position: relative;z-index: 1;}#sk-container-id-1 div.sk-parallel {display: flex;align-items: stretch;justify-content: center;background-color: white;position: relative;}#sk-container-id-1 div.sk-item::before, #sk-container-id-1 div.sk-parallel-item::before {content: \"\";position: absolute;border-left: 1px solid gray;box-sizing: border-box;top: 0;bottom: 0;left: 50%;z-index: -1;}#sk-container-id-1 div.sk-parallel-item {display: flex;flex-direction: column;z-index: 1;position: relative;background-color: white;}#sk-container-id-1 div.sk-parallel-item:first-child::after {align-self: flex-end;width: 50%;}#sk-container-id-1 div.sk-parallel-item:last-child::after {align-self: flex-start;width: 50%;}#sk-container-id-1 div.sk-parallel-item:only-child::after {width: 0;}#sk-container-id-1 div.sk-dashed-wrapped {border: 1px dashed gray;margin: 0 0.4em 0.5em 0.4em;box-sizing: border-box;padding-bottom: 0.4em;background-color: white;}#sk-container-id-1 div.sk-label label {font-family: monospace;font-weight: bold;display: inline-block;line-height: 1.2em;}#sk-container-id-1 div.sk-label-container {text-align: center;}#sk-container-id-1 div.sk-container {/* jupyter's `normalize.less` sets `[hidden] { display: none; }` but bootstrap.min.css set `[hidden] { display: none !important; }` so we also need the `!important` here to be able to override the default hidden behavior on the sphinx rendered scikit-learn.org. See: https://github.com/scikit-learn/scikit-learn/issues/21755 */display: inline-block !important;position: relative;}#sk-container-id-1 div.sk-text-repr-fallback {display: none;}</style><div id=\"sk-container-id-1\" class=\"sk-top-container\"><div class=\"sk-text-repr-fallback\"><pre>RandomForestClassifier(min_samples_split=100, random_state=1)</pre><b>In a Jupyter environment, please rerun this cell to show the HTML representation or trust the notebook. <br />On GitHub, the HTML representation is unable to render, please try loading this page with nbviewer.org.</b></div><div class=\"sk-container\" hidden><div class=\"sk-item\"><div class=\"sk-estimator sk-toggleable\"><input class=\"sk-toggleable__control sk-hidden--visually\" id=\"sk-estimator-id-1\" type=\"checkbox\" checked><label for=\"sk-estimator-id-1\" class=\"sk-toggleable__label sk-toggleable__label-arrow\">RandomForestClassifier</label><div class=\"sk-toggleable__content\"><pre>RandomForestClassifier(min_samples_split=100, random_state=1)</pre></div></div></div></div></div>"
      ],
      "text/plain": [
       "RandomForestClassifier(min_samples_split=100, random_state=1)"
      ]
     },
     "execution_count": 13,
     "metadata": {},
     "output_type": "execute_result"
    }
   ],
   "source": [
    "# from sklearn.ensemble import RandomForestClassifier\n",
    "\n",
    "model = RandomForestClassifier(n_estimators = 100, min_samples_split = 100, random_state = 1)\n",
    "\n",
    "train = TSLA.iloc[:-100]\n",
    "test = TSLA.iloc[-100:]\n",
    "\n",
    "predictors = [\"Close\", \"Volume\", \"Open\", \"High\", \"Low\"]\n",
    "model.fit(train[predictors], train[\"Target\"])"
   ]
  },
  {
   "cell_type": "code",
   "execution_count": 14,
   "id": "c3571423",
   "metadata": {
    "execution": {
     "iopub.execute_input": "2024-05-17T03:31:58.655166Z",
     "iopub.status.busy": "2024-05-17T03:31:58.654750Z",
     "iopub.status.idle": "2024-05-17T03:31:58.677653Z",
     "shell.execute_reply": "2024-05-17T03:31:58.676304Z"
    },
    "papermill": {
     "duration": 0.037294,
     "end_time": "2024-05-17T03:31:58.679797",
     "exception": false,
     "start_time": "2024-05-17T03:31:58.642503",
     "status": "completed"
    },
    "tags": []
   },
   "outputs": [
    {
     "data": {
      "text/plain": [
       "0.43859649122807015"
      ]
     },
     "execution_count": 14,
     "metadata": {},
     "output_type": "execute_result"
    }
   ],
   "source": [
    "# from sklearn.metrics import precision_score\n",
    "\n",
    "preds = model.predict(test[predictors])\n",
    "preds = pd.Series(preds, index = test.index)\n",
    "precision_score(test[\"Target\"], preds)"
   ]
  },
  {
   "cell_type": "code",
   "execution_count": 15,
   "id": "df3f18c5",
   "metadata": {
    "execution": {
     "iopub.execute_input": "2024-05-17T03:31:58.702611Z",
     "iopub.status.busy": "2024-05-17T03:31:58.702186Z",
     "iopub.status.idle": "2024-05-17T03:31:59.079233Z",
     "shell.execute_reply": "2024-05-17T03:31:59.077937Z"
    },
    "papermill": {
     "duration": 0.391338,
     "end_time": "2024-05-17T03:31:59.081639",
     "exception": false,
     "start_time": "2024-05-17T03:31:58.690301",
     "status": "completed"
    },
    "tags": []
   },
   "outputs": [
    {
     "data": {
      "text/plain": [
       "<Axes: xlabel='Date'>"
      ]
     },
     "execution_count": 15,
     "metadata": {},
     "output_type": "execute_result"
    },
    {
     "data": {
      "image/png": "[encoded data removed]",
      "text/plain": [
       "<Figure size 640x480 with 1 Axes>"
      ]
     },
     "metadata": {},
     "output_type": "display_data"
    }
   ],
   "source": [
    "combined = pd.concat([test[\"Target\"], preds], axis = 1)\n",
    "combined.plot()"
   ]
  },
  {
   "cell_type": "code",
   "execution_count": 16,
   "id": "bc512d68",
   "metadata": {
    "execution": {
     "iopub.execute_input": "2024-05-17T03:31:59.108760Z",
     "iopub.status.busy": "2024-05-17T03:31:59.108070Z",
     "iopub.status.idle": "2024-05-17T03:31:59.113775Z",
     "shell.execute_reply": "2024-05-17T03:31:59.112924Z"
    },
    "papermill": {
     "duration": 0.022102,
     "end_time": "2024-05-17T03:31:59.116126",
     "exception": false,
     "start_time": "2024-05-17T03:31:59.094024",
     "status": "completed"
    },
    "tags": []
   },
   "outputs": [],
   "source": [
    "def predict(train, test, predictors, model):\n",
    "    model.fit(train[predictors], train[\"Target\"])\n",
    "    preds = model.predict(test[predictors])\n",
    "    preds = pd.Series(preds, index=test.index, name=\"Predictions\")\n",
    "    combined = pd.concat([test[\"Target\"], preds], axis=1)\n",
    "    return combined"
   ]
  },
  {
   "cell_type": "code",
   "execution_count": 17,
   "id": "aa513006",
   "metadata": {
    "execution": {
     "iopub.execute_input": "2024-05-17T03:31:59.143141Z",
     "iopub.status.busy": "2024-05-17T03:31:59.142466Z",
     "iopub.status.idle": "2024-05-17T03:31:59.148410Z",
     "shell.execute_reply": "2024-05-17T03:31:59.147397Z"
    },
    "papermill": {
     "duration": 0.022051,
     "end_time": "2024-05-17T03:31:59.150678",
     "exception": false,
     "start_time": "2024-05-17T03:31:59.128627",
     "status": "completed"
    },
    "tags": []
   },
   "outputs": [],
   "source": [
    "def backtest(data, model, predictors, start=600, step=50):\n",
    "    all_predictions = []\n",
    "\n",
    "    for i in range(start, data.shape[0], step):\n",
    "        train = data.iloc[0:i].copy()\n",
    "        test = data.iloc[i:(i+step)].copy()\n",
    "        predictions = predict(train, test, predictors, model)\n",
    "        all_predictions.append(predictions)\n",
    "    \n",
    "    return pd.concat(all_predictions)"
   ]
  },
  {
   "cell_type": "code",
   "execution_count": 18,
   "id": "ee7d58d9",
   "metadata": {
    "execution": {
     "iopub.execute_input": "2024-05-17T03:31:59.177875Z",
     "iopub.status.busy": "2024-05-17T03:31:59.177160Z",
     "iopub.status.idle": "2024-05-17T03:32:04.437777Z",
     "shell.execute_reply": "2024-05-17T03:32:04.436287Z"
    },
    "papermill": {
     "duration": 5.277401,
     "end_time": "2024-05-17T03:32:04.440431",
     "exception": false,
     "start_time": "2024-05-17T03:31:59.163030",
     "status": "completed"
    },
    "tags": []
   },
   "outputs": [],
   "source": [
    "predictions = backtest(TSLA, model, predictors)"
   ]
  },
  {
   "cell_type": "code",
   "execution_count": 19,
   "id": "61b645b8",
   "metadata": {
    "execution": {
     "iopub.execute_input": "2024-05-17T03:32:04.466640Z",
     "iopub.status.busy": "2024-05-17T03:32:04.466228Z",
     "iopub.status.idle": "2024-05-17T03:32:04.476440Z",
     "shell.execute_reply": "2024-05-17T03:32:04.475373Z"
    },
    "papermill": {
     "duration": 0.025898,
     "end_time": "2024-05-17T03:32:04.478521",
     "exception": false,
     "start_time": "2024-05-17T03:32:04.452623",
     "status": "completed"
    },
    "tags": []
   },
   "outputs": [
    {
     "data": {
      "text/plain": [
       "Predictions\n",
       "1    488\n",
       "0    265\n",
       "Name: count, dtype: int64"
      ]
     },
     "execution_count": 19,
     "metadata": {},
     "output_type": "execute_result"
    }
   ],
   "source": [
    "predictions[\"Predictions\"].value_counts()"
   ]
  },
  {
   "cell_type": "code",
   "execution_count": 20,
   "id": "1a1c7eca",
   "metadata": {
    "execution": {
     "iopub.execute_input": "2024-05-17T03:32:04.504535Z",
     "iopub.status.busy": "2024-05-17T03:32:04.504141Z",
     "iopub.status.idle": "2024-05-17T03:32:04.515105Z",
     "shell.execute_reply": "2024-05-17T03:32:04.514016Z"
    },
    "papermill": {
     "duration": 0.026607,
     "end_time": "2024-05-17T03:32:04.517321",
     "exception": false,
     "start_time": "2024-05-17T03:32:04.490714",
     "status": "completed"
    },
    "tags": []
   },
   "outputs": [
    {
     "data": {
      "text/plain": [
       "0.5"
      ]
     },
     "execution_count": 20,
     "metadata": {},
     "output_type": "execute_result"
    }
   ],
   "source": [
    "precision_score(predictions[\"Target\"], predictions[\"Predictions\"])"
   ]
  },
  {
   "cell_type": "code",
   "execution_count": 21,
   "id": "89844879",
   "metadata": {
    "execution": {
     "iopub.execute_input": "2024-05-17T03:32:04.544272Z",
     "iopub.status.busy": "2024-05-17T03:32:04.543460Z",
     "iopub.status.idle": "2024-05-17T03:32:04.552940Z",
     "shell.execute_reply": "2024-05-17T03:32:04.551742Z"
    },
    "papermill": {
     "duration": 0.025845,
     "end_time": "2024-05-17T03:32:04.555334",
     "exception": false,
     "start_time": "2024-05-17T03:32:04.529489",
     "status": "completed"
    },
    "tags": []
   },
   "outputs": [
    {
     "data": {
      "text/plain": [
       "Target\n",
       "1    0.520584\n",
       "0    0.479416\n",
       "Name: count, dtype: float64"
      ]
     },
     "execution_count": 21,
     "metadata": {},
     "output_type": "execute_result"
    }
   ],
   "source": [
    "predictions[\"Target\"].value_counts()/predictions.shape[0]"
   ]
  },
  {
   "cell_type": "code",
   "execution_count": 22,
   "id": "1bc1d5db",
   "metadata": {
    "execution": {
     "iopub.execute_input": "2024-05-17T03:32:04.581894Z",
     "iopub.status.busy": "2024-05-17T03:32:04.581389Z",
     "iopub.status.idle": "2024-05-17T03:32:04.614066Z",
     "shell.execute_reply": "2024-05-17T03:32:04.612564Z"
    },
    "papermill": {
     "duration": 0.049122,
     "end_time": "2024-05-17T03:32:04.616860",
     "exception": false,
     "start_time": "2024-05-17T03:32:04.567738",
     "status": "completed"
    },
    "tags": []
   },
   "outputs": [],
   "source": [
    "horizons = [2, 5, 60, 250, 500]\n",
    "new_predictors = []\n",
    "\n",
    "for horizon in horizons:\n",
    "    rolling_averages = TSLA.rolling(horizon).mean()\n",
    "    \n",
    "    ratio_column = f\"Close_Ratio_{horizon}\"\n",
    "    TSLA[ratio_column] = TSLA[\"Close\"] / rolling_averages[\"Close\"]\n",
    "    \n",
    "    trend_column = f\"Trend_{horizon}\"\n",
    "    TSLA[trend_column] = TSLA.shift(1).rolling(horizon).sum()[\"Target\"]\n",
    "    \n",
    "    new_predictors += [ratio_column, trend_column]"
   ]
  },
  {
   "cell_type": "code",
   "execution_count": 23,
   "id": "a9dbf135",
   "metadata": {
    "execution": {
     "iopub.execute_input": "2024-05-17T03:32:04.644090Z",
     "iopub.status.busy": "2024-05-17T03:32:04.643641Z",
     "iopub.status.idle": "2024-05-17T03:32:04.648783Z",
     "shell.execute_reply": "2024-05-17T03:32:04.647417Z"
    },
    "papermill": {
     "duration": 0.021228,
     "end_time": "2024-05-17T03:32:04.651031",
     "exception": false,
     "start_time": "2024-05-17T03:32:04.629803",
     "status": "completed"
    },
    "tags": []
   },
   "outputs": [],
   "source": [
    "# TSLA"
   ]
  },
  {
   "cell_type": "code",
   "execution_count": 24,
   "id": "8e17b9ac",
   "metadata": {
    "execution": {
     "iopub.execute_input": "2024-05-17T03:32:04.677767Z",
     "iopub.status.busy": "2024-05-17T03:32:04.677378Z",
     "iopub.status.idle": "2024-05-17T03:32:04.684920Z",
     "shell.execute_reply": "2024-05-17T03:32:04.683878Z"
    },
    "papermill": {
     "duration": 0.023741,
     "end_time": "2024-05-17T03:32:04.687182",
     "exception": false,
     "start_time": "2024-05-17T03:32:04.663441",
     "status": "completed"
    },
    "tags": []
   },
   "outputs": [],
   "source": [
    "TSLA = TSLA.dropna()"
   ]
  },
  {
   "cell_type": "code",
   "execution_count": 25,
   "id": "a7fea76c",
   "metadata": {
    "execution": {
     "iopub.execute_input": "2024-05-17T03:32:04.714052Z",
     "iopub.status.busy": "2024-05-17T03:32:04.713653Z",
     "iopub.status.idle": "2024-05-17T03:32:04.748955Z",
     "shell.execute_reply": "2024-05-17T03:32:04.748013Z"
    },
    "papermill": {
     "duration": 0.051548,
     "end_time": "2024-05-17T03:32:04.751361",
     "exception": false,
     "start_time": "2024-05-17T03:32:04.699813",
     "status": "completed"
    },
    "tags": []
   },
   "outputs": [
    {
     "data": {
      "text/html": [
       "<div>\n",
       "<style scoped>\n",
       "    .dataframe tbody tr th:only-of-type {\n",
       "        vertical-align: middle;\n",
       "    }\n",
       "\n",
       "    .dataframe tbody tr th {\n",
       "        vertical-align: top;\n",
       "    }\n",
       "\n",
       "    .dataframe thead th {\n",
       "        text-align: right;\n",
       "    }\n",
       "</style>\n",
       "<table border=\"1\" class=\"dataframe\">\n",
       "  <thead>\n",
       "    <tr style=\"text-align: right;\">\n",
       "      <th></th>\n",
       "      <th>Open</th>\n",
       "      <th>High</th>\n",
       "      <th>Low</th>\n",
       "      <th>Close</th>\n",
       "      <th>Volume</th>\n",
       "      <th>Stock Splits</th>\n",
       "      <th>Tomorrow</th>\n",
       "      <th>Target</th>\n",
       "      <th>Close_Ratio_2</th>\n",
       "      <th>Trend_2</th>\n",
       "      <th>Close_Ratio_5</th>\n",
       "      <th>Trend_5</th>\n",
       "      <th>Close_Ratio_60</th>\n",
       "      <th>Trend_60</th>\n",
       "      <th>Close_Ratio_250</th>\n",
       "      <th>Trend_250</th>\n",
       "      <th>Close_Ratio_500</th>\n",
       "      <th>Trend_500</th>\n",
       "    </tr>\n",
       "    <tr>\n",
       "      <th>Date</th>\n",
       "      <th></th>\n",
       "      <th></th>\n",
       "      <th></th>\n",
       "      <th></th>\n",
       "      <th></th>\n",
       "      <th></th>\n",
       "      <th></th>\n",
       "      <th></th>\n",
       "      <th></th>\n",
       "      <th></th>\n",
       "      <th></th>\n",
       "      <th></th>\n",
       "      <th></th>\n",
       "      <th></th>\n",
       "      <th></th>\n",
       "      <th></th>\n",
       "      <th></th>\n",
       "      <th></th>\n",
       "    </tr>\n",
       "  </thead>\n",
       "  <tbody>\n",
       "    <tr>\n",
       "      <th>2020-12-24 00:00:00-05:00</th>\n",
       "      <td>214.330002</td>\n",
       "      <td>222.029999</td>\n",
       "      <td>213.666672</td>\n",
       "      <td>220.589996</td>\n",
       "      <td>68596800</td>\n",
       "      <td>0.0</td>\n",
       "      <td>221.229996</td>\n",
       "      <td>1</td>\n",
       "      <td>1.012074</td>\n",
       "      <td>2.0</td>\n",
       "      <td>1.004828</td>\n",
       "      <td>3.0</td>\n",
       "      <td>1.322009</td>\n",
       "      <td>34.0</td>\n",
       "      <td>2.339309</td>\n",
       "      <td>143.0</td>\n",
       "      <td>3.922157</td>\n",
       "      <td>274.0</td>\n",
       "    </tr>\n",
       "    <tr>\n",
       "      <th>2020-12-28 00:00:00-05:00</th>\n",
       "      <td>224.836670</td>\n",
       "      <td>227.133331</td>\n",
       "      <td>220.266663</td>\n",
       "      <td>221.229996</td>\n",
       "      <td>96835800</td>\n",
       "      <td>0.0</td>\n",
       "      <td>221.996674</td>\n",
       "      <td>1</td>\n",
       "      <td>1.001449</td>\n",
       "      <td>2.0</td>\n",
       "      <td>1.017418</td>\n",
       "      <td>3.0</td>\n",
       "      <td>1.316398</td>\n",
       "      <td>34.0</td>\n",
       "      <td>2.327012</td>\n",
       "      <td>143.0</td>\n",
       "      <td>3.905591</td>\n",
       "      <td>275.0</td>\n",
       "    </tr>\n",
       "    <tr>\n",
       "      <th>2020-12-29 00:00:00-05:00</th>\n",
       "      <td>220.333328</td>\n",
       "      <td>223.300003</td>\n",
       "      <td>218.333328</td>\n",
       "      <td>221.996674</td>\n",
       "      <td>68732400</td>\n",
       "      <td>0.0</td>\n",
       "      <td>231.593338</td>\n",
       "      <td>1</td>\n",
       "      <td>1.001730</td>\n",
       "      <td>2.0</td>\n",
       "      <td>1.015919</td>\n",
       "      <td>4.0</td>\n",
       "      <td>1.310094</td>\n",
       "      <td>35.0</td>\n",
       "      <td>2.316237</td>\n",
       "      <td>143.0</td>\n",
       "      <td>3.891534</td>\n",
       "      <td>275.0</td>\n",
       "    </tr>\n",
       "    <tr>\n",
       "      <th>2020-12-30 00:00:00-05:00</th>\n",
       "      <td>224.000000</td>\n",
       "      <td>232.199997</td>\n",
       "      <td>222.786667</td>\n",
       "      <td>231.593338</td>\n",
       "      <td>128538000</td>\n",
       "      <td>0.0</td>\n",
       "      <td>235.223328</td>\n",
       "      <td>1</td>\n",
       "      <td>1.021157</td>\n",
       "      <td>2.0</td>\n",
       "      <td>1.042521</td>\n",
       "      <td>5.0</td>\n",
       "      <td>1.354775</td>\n",
       "      <td>35.0</td>\n",
       "      <td>2.396159</td>\n",
       "      <td>143.0</td>\n",
       "      <td>4.030192</td>\n",
       "      <td>275.0</td>\n",
       "    </tr>\n",
       "    <tr>\n",
       "      <th>2020-12-31 00:00:00-05:00</th>\n",
       "      <td>233.330002</td>\n",
       "      <td>239.573334</td>\n",
       "      <td>230.373337</td>\n",
       "      <td>235.223328</td>\n",
       "      <td>148949700</td>\n",
       "      <td>0.0</td>\n",
       "      <td>243.256668</td>\n",
       "      <td>1</td>\n",
       "      <td>1.007776</td>\n",
       "      <td>2.0</td>\n",
       "      <td>1.040228</td>\n",
       "      <td>5.0</td>\n",
       "      <td>1.363088</td>\n",
       "      <td>36.0</td>\n",
       "      <td>2.413230</td>\n",
       "      <td>143.0</td>\n",
       "      <td>4.063258</td>\n",
       "      <td>275.0</td>\n",
       "    </tr>\n",
       "    <tr>\n",
       "      <th>...</th>\n",
       "      <td>...</td>\n",
       "      <td>...</td>\n",
       "      <td>...</td>\n",
       "      <td>...</td>\n",
       "      <td>...</td>\n",
       "      <td>...</td>\n",
       "      <td>...</td>\n",
       "      <td>...</td>\n",
       "      <td>...</td>\n",
       "      <td>...</td>\n",
       "      <td>...</td>\n",
       "      <td>...</td>\n",
       "      <td>...</td>\n",
       "      <td>...</td>\n",
       "      <td>...</td>\n",
       "      <td>...</td>\n",
       "      <td>...</td>\n",
       "      <td>...</td>\n",
       "    </tr>\n",
       "    <tr>\n",
       "      <th>2024-05-09 00:00:00-04:00</th>\n",
       "      <td>175.009995</td>\n",
       "      <td>175.619995</td>\n",
       "      <td>171.369995</td>\n",
       "      <td>171.970001</td>\n",
       "      <td>65950300</td>\n",
       "      <td>0.0</td>\n",
       "      <td>168.470001</td>\n",
       "      <td>0</td>\n",
       "      <td>0.992068</td>\n",
       "      <td>0.0</td>\n",
       "      <td>0.965635</td>\n",
       "      <td>2.0</td>\n",
       "      <td>0.974061</td>\n",
       "      <td>28.0</td>\n",
       "      <td>0.774459</td>\n",
       "      <td>128.0</td>\n",
       "      <td>0.790704</td>\n",
       "      <td>255.0</td>\n",
       "    </tr>\n",
       "    <tr>\n",
       "      <th>2024-05-10 00:00:00-04:00</th>\n",
       "      <td>173.050003</td>\n",
       "      <td>173.059998</td>\n",
       "      <td>167.750000</td>\n",
       "      <td>168.470001</td>\n",
       "      <td>72627200</td>\n",
       "      <td>0.0</td>\n",
       "      <td>171.889999</td>\n",
       "      <td>1</td>\n",
       "      <td>0.989719</td>\n",
       "      <td>0.0</td>\n",
       "      <td>0.959691</td>\n",
       "      <td>1.0</td>\n",
       "      <td>0.956063</td>\n",
       "      <td>27.0</td>\n",
       "      <td>0.758691</td>\n",
       "      <td>128.0</td>\n",
       "      <td>0.775239</td>\n",
       "      <td>254.0</td>\n",
       "    </tr>\n",
       "    <tr>\n",
       "      <th>2024-05-13 00:00:00-04:00</th>\n",
       "      <td>170.000000</td>\n",
       "      <td>175.399994</td>\n",
       "      <td>169.000000</td>\n",
       "      <td>171.889999</td>\n",
       "      <td>67018900</td>\n",
       "      <td>0.0</td>\n",
       "      <td>177.550003</td>\n",
       "      <td>1</td>\n",
       "      <td>1.010048</td>\n",
       "      <td>1.0</td>\n",
       "      <td>0.993745</td>\n",
       "      <td>1.0</td>\n",
       "      <td>0.978114</td>\n",
       "      <td>27.0</td>\n",
       "      <td>0.774015</td>\n",
       "      <td>129.0</td>\n",
       "      <td>0.791484</td>\n",
       "      <td>255.0</td>\n",
       "    </tr>\n",
       "    <tr>\n",
       "      <th>2024-05-14 00:00:00-04:00</th>\n",
       "      <td>174.500000</td>\n",
       "      <td>179.490005</td>\n",
       "      <td>174.070007</td>\n",
       "      <td>177.550003</td>\n",
       "      <td>86407400</td>\n",
       "      <td>0.0</td>\n",
       "      <td>173.990005</td>\n",
       "      <td>0</td>\n",
       "      <td>1.016197</td>\n",
       "      <td>2.0</td>\n",
       "      <td>1.026775</td>\n",
       "      <td>2.0</td>\n",
       "      <td>1.012472</td>\n",
       "      <td>28.0</td>\n",
       "      <td>0.799343</td>\n",
       "      <td>129.0</td>\n",
       "      <td>0.818121</td>\n",
       "      <td>255.0</td>\n",
       "    </tr>\n",
       "    <tr>\n",
       "      <th>2024-05-15 00:00:00-04:00</th>\n",
       "      <td>179.899994</td>\n",
       "      <td>180.000000</td>\n",
       "      <td>173.110001</td>\n",
       "      <td>173.990005</td>\n",
       "      <td>79663000</td>\n",
       "      <td>0.0</td>\n",
       "      <td>174.839996</td>\n",
       "      <td>1</td>\n",
       "      <td>0.989873</td>\n",
       "      <td>1.0</td>\n",
       "      <td>1.007038</td>\n",
       "      <td>2.0</td>\n",
       "      <td>0.994039</td>\n",
       "      <td>28.0</td>\n",
       "      <td>0.783314</td>\n",
       "      <td>128.0</td>\n",
       "      <td>0.802180</td>\n",
       "      <td>255.0</td>\n",
       "    </tr>\n",
       "  </tbody>\n",
       "</table>\n",
       "<p>852 rows × 18 columns</p>\n",
       "</div>"
      ],
      "text/plain": [
       "                                 Open        High         Low       Close  \\\n",
       "Date                                                                        \n",
       "2020-12-24 00:00:00-05:00  214.330002  222.029999  213.666672  220.589996   \n",
       "2020-12-28 00:00:00-05:00  224.836670  227.133331  220.266663  221.229996   \n",
       "2020-12-29 00:00:00-05:00  220.333328  223.300003  218.333328  221.996674   \n",
       "2020-12-30 00:00:00-05:00  224.000000  232.199997  222.786667  231.593338   \n",
       "2020-12-31 00:00:00-05:00  233.330002  239.573334  230.373337  235.223328   \n",
       "...                               ...         ...         ...         ...   \n",
       "2024-05-09 00:00:00-04:00  175.009995  175.619995  171.369995  171.970001   \n",
       "2024-05-10 00:00:00-04:00  173.050003  173.059998  167.750000  168.470001   \n",
       "2024-05-13 00:00:00-04:00  170.000000  175.399994  169.000000  171.889999   \n",
       "2024-05-14 00:00:00-04:00  174.500000  179.490005  174.070007  177.550003   \n",
       "2024-05-15 00:00:00-04:00  179.899994  180.000000  173.110001  173.990005   \n",
       "\n",
       "                              Volume  Stock Splits    Tomorrow  Target  \\\n",
       "Date                                                                     \n",
       "2020-12-24 00:00:00-05:00   68596800           0.0  221.229996       1   \n",
       "2020-12-28 00:00:00-05:00   96835800           0.0  221.996674       1   \n",
       "2020-12-29 00:00:00-05:00   68732400           0.0  231.593338       1   \n",
       "2020-12-30 00:00:00-05:00  128538000           0.0  235.223328       1   \n",
       "2020-12-31 00:00:00-05:00  148949700           0.0  243.256668       1   \n",
       "...                              ...           ...         ...     ...   \n",
       "2024-05-09 00:00:00-04:00   65950300           0.0  168.470001       0   \n",
       "2024-05-10 00:00:00-04:00   72627200           0.0  171.889999       1   \n",
       "2024-05-13 00:00:00-04:00   67018900           0.0  177.550003       1   \n",
       "2024-05-14 00:00:00-04:00   86407400           0.0  173.990005       0   \n",
       "2024-05-15 00:00:00-04:00   79663000           0.0  174.839996       1   \n",
       "\n",
       "                           Close_Ratio_2  Trend_2  Close_Ratio_5  Trend_5  \\\n",
       "Date                                                                        \n",
       "2020-12-24 00:00:00-05:00       1.012074      2.0       1.004828      3.0   \n",
       "2020-12-28 00:00:00-05:00       1.001449      2.0       1.017418      3.0   \n",
       "2020-12-29 00:00:00-05:00       1.001730      2.0       1.015919      4.0   \n",
       "2020-12-30 00:00:00-05:00       1.021157      2.0       1.042521      5.0   \n",
       "2020-12-31 00:00:00-05:00       1.007776      2.0       1.040228      5.0   \n",
       "...                                  ...      ...            ...      ...   \n",
       "2024-05-09 00:00:00-04:00       0.992068      0.0       0.965635      2.0   \n",
       "2024-05-10 00:00:00-04:00       0.989719      0.0       0.959691      1.0   \n",
       "2024-05-13 00:00:00-04:00       1.010048      1.0       0.993745      1.0   \n",
       "2024-05-14 00:00:00-04:00       1.016197      2.0       1.026775      2.0   \n",
       "2024-05-15 00:00:00-04:00       0.989873      1.0       1.007038      2.0   \n",
       "\n",
       "                           Close_Ratio_60  Trend_60  Close_Ratio_250  \\\n",
       "Date                                                                   \n",
       "2020-12-24 00:00:00-05:00        1.322009      34.0         2.339309   \n",
       "2020-12-28 00:00:00-05:00        1.316398      34.0         2.327012   \n",
       "2020-12-29 00:00:00-05:00        1.310094      35.0         2.316237   \n",
       "2020-12-30 00:00:00-05:00        1.354775      35.0         2.396159   \n",
       "2020-12-31 00:00:00-05:00        1.363088      36.0         2.413230   \n",
       "...                                   ...       ...              ...   \n",
       "2024-05-09 00:00:00-04:00        0.974061      28.0         0.774459   \n",
       "2024-05-10 00:00:00-04:00        0.956063      27.0         0.758691   \n",
       "2024-05-13 00:00:00-04:00        0.978114      27.0         0.774015   \n",
       "2024-05-14 00:00:00-04:00        1.012472      28.0         0.799343   \n",
       "2024-05-15 00:00:00-04:00        0.994039      28.0         0.783314   \n",
       "\n",
       "                           Trend_250  Close_Ratio_500  Trend_500  \n",
       "Date                                                              \n",
       "2020-12-24 00:00:00-05:00      143.0         3.922157      274.0  \n",
       "2020-12-28 00:00:00-05:00      143.0         3.905591      275.0  \n",
       "2020-12-29 00:00:00-05:00      143.0         3.891534      275.0  \n",
       "2020-12-30 00:00:00-05:00      143.0         4.030192      275.0  \n",
       "2020-12-31 00:00:00-05:00      143.0         4.063258      275.0  \n",
       "...                              ...              ...        ...  \n",
       "2024-05-09 00:00:00-04:00      128.0         0.790704      255.0  \n",
       "2024-05-10 00:00:00-04:00      128.0         0.775239      254.0  \n",
       "2024-05-13 00:00:00-04:00      129.0         0.791484      255.0  \n",
       "2024-05-14 00:00:00-04:00      129.0         0.818121      255.0  \n",
       "2024-05-15 00:00:00-04:00      128.0         0.802180      255.0  \n",
       "\n",
       "[852 rows x 18 columns]"
      ]
     },
     "execution_count": 25,
     "metadata": {},
     "output_type": "execute_result"
    }
   ],
   "source": [
    "TSLA"
   ]
  },
  {
   "cell_type": "code",
   "execution_count": 26,
   "id": "6d628ad1",
   "metadata": {
    "execution": {
     "iopub.execute_input": "2024-05-17T03:32:04.779943Z",
     "iopub.status.busy": "2024-05-17T03:32:04.778993Z",
     "iopub.status.idle": "2024-05-17T03:32:04.784782Z",
     "shell.execute_reply": "2024-05-17T03:32:04.783583Z"
    },
    "papermill": {
     "duration": 0.022713,
     "end_time": "2024-05-17T03:32:04.787365",
     "exception": false,
     "start_time": "2024-05-17T03:32:04.764652",
     "status": "completed"
    },
    "tags": []
   },
   "outputs": [],
   "source": [
    "model = RandomForestClassifier(n_estimators = 200, min_samples_split = 50, random_state = 1)"
   ]
  },
  {
   "cell_type": "code",
   "execution_count": 27,
   "id": "fedc9f95",
   "metadata": {
    "execution": {
     "iopub.execute_input": "2024-05-17T03:32:04.816342Z",
     "iopub.status.busy": "2024-05-17T03:32:04.815412Z",
     "iopub.status.idle": "2024-05-17T03:32:04.822030Z",
     "shell.execute_reply": "2024-05-17T03:32:04.821224Z"
    },
    "papermill": {
     "duration": 0.023355,
     "end_time": "2024-05-17T03:32:04.824078",
     "exception": false,
     "start_time": "2024-05-17T03:32:04.800723",
     "status": "completed"
    },
    "tags": []
   },
   "outputs": [],
   "source": [
    "def predict(train, test, predictors, model):\n",
    "    model.fit(train[predictors], train[\"Target\"])\n",
    "    preds = model.predict_proba(test[predictors])[:,1]\n",
    "    preds[preds >= .6] = 1\n",
    "    preds[preds < .6] = 0\n",
    "    preds = pd.Series(preds, index = test.index, name = \"Predictions\")\n",
    "    combined = pd.concat([test[\"Target\"], preds], axis = 1)\n",
    "    \n",
    "    return combined"
   ]
  },
  {
   "cell_type": "code",
   "execution_count": 28,
   "id": "abd14395",
   "metadata": {
    "execution": {
     "iopub.execute_input": "2024-05-17T03:32:04.855126Z",
     "iopub.status.busy": "2024-05-17T03:32:04.853784Z",
     "iopub.status.idle": "2024-05-17T03:32:07.925359Z",
     "shell.execute_reply": "2024-05-17T03:32:07.924049Z"
    },
    "papermill": {
     "duration": 3.089562,
     "end_time": "2024-05-17T03:32:07.928039",
     "exception": false,
     "start_time": "2024-05-17T03:32:04.838477",
     "status": "completed"
    },
    "tags": []
   },
   "outputs": [],
   "source": [
    "predictions = backtest(TSLA, model, new_predictors)"
   ]
  },
  {
   "cell_type": "code",
   "execution_count": 29,
   "id": "8c3dc21b",
   "metadata": {
    "execution": {
     "iopub.execute_input": "2024-05-17T03:32:07.956470Z",
     "iopub.status.busy": "2024-05-17T03:32:07.956077Z",
     "iopub.status.idle": "2024-05-17T03:32:07.966392Z",
     "shell.execute_reply": "2024-05-17T03:32:07.965259Z"
    },
    "papermill": {
     "duration": 0.027491,
     "end_time": "2024-05-17T03:32:07.968884",
     "exception": false,
     "start_time": "2024-05-17T03:32:07.941393",
     "status": "completed"
    },
    "tags": []
   },
   "outputs": [
    {
     "data": {
      "text/plain": [
       "Predictions\n",
       "0.0    187\n",
       "1.0     65\n",
       "Name: count, dtype: int64"
      ]
     },
     "execution_count": 29,
     "metadata": {},
     "output_type": "execute_result"
    }
   ],
   "source": [
    "predictions[\"Predictions\"].value_counts()"
   ]
  },
  {
   "cell_type": "code",
   "execution_count": 30,
   "id": "c094c0dd",
   "metadata": {
    "execution": {
     "iopub.execute_input": "2024-05-17T03:32:07.997268Z",
     "iopub.status.busy": "2024-05-17T03:32:07.996628Z",
     "iopub.status.idle": "2024-05-17T03:32:08.007333Z",
     "shell.execute_reply": "2024-05-17T03:32:08.006115Z"
    },
    "papermill": {
     "duration": 0.027827,
     "end_time": "2024-05-17T03:32:08.009866",
     "exception": false,
     "start_time": "2024-05-17T03:32:07.982039",
     "status": "completed"
    },
    "tags": []
   },
   "outputs": [
    {
     "data": {
      "text/plain": [
       "0.4461538461538462"
      ]
     },
     "execution_count": 30,
     "metadata": {},
     "output_type": "execute_result"
    }
   ],
   "source": [
    "precision_score(predictions[\"Target\"], predictions[\"Predictions\"])"
   ]
  },
  {
   "cell_type": "code",
   "execution_count": 31,
   "id": "224f5bdd",
   "metadata": {
    "execution": {
     "iopub.execute_input": "2024-05-17T03:32:08.038030Z",
     "iopub.status.busy": "2024-05-17T03:32:08.037630Z",
     "iopub.status.idle": "2024-05-17T03:32:08.046578Z",
     "shell.execute_reply": "2024-05-17T03:32:08.045522Z"
    },
    "papermill": {
     "duration": 0.025394,
     "end_time": "2024-05-17T03:32:08.048591",
     "exception": false,
     "start_time": "2024-05-17T03:32:08.023197",
     "status": "completed"
    },
    "tags": []
   },
   "outputs": [
    {
     "data": {
      "text/plain": [
       "Target\n",
       "1    0.515873\n",
       "0    0.484127\n",
       "Name: count, dtype: float64"
      ]
     },
     "execution_count": 31,
     "metadata": {},
     "output_type": "execute_result"
    }
   ],
   "source": [
    "predictions[\"Target\"].value_counts() / predictions.shape[0]\n"
   ]
  },
  {
   "cell_type": "code",
   "execution_count": 32,
   "id": "41f4d893",
   "metadata": {
    "execution": {
     "iopub.execute_input": "2024-05-17T03:32:08.077475Z",
     "iopub.status.busy": "2024-05-17T03:32:08.076368Z",
     "iopub.status.idle": "2024-05-17T03:32:08.088769Z",
     "shell.execute_reply": "2024-05-17T03:32:08.087540Z"
    },
    "papermill": {
     "duration": 0.029144,
     "end_time": "2024-05-17T03:32:08.091056",
     "exception": false,
     "start_time": "2024-05-17T03:32:08.061912",
     "status": "completed"
    },
    "tags": []
   },
   "outputs": [
    {
     "data": {
      "text/html": [
       "<div>\n",
       "<style scoped>\n",
       "    .dataframe tbody tr th:only-of-type {\n",
       "        vertical-align: middle;\n",
       "    }\n",
       "\n",
       "    .dataframe tbody tr th {\n",
       "        vertical-align: top;\n",
       "    }\n",
       "\n",
       "    .dataframe thead th {\n",
       "        text-align: right;\n",
       "    }\n",
       "</style>\n",
       "<table border=\"1\" class=\"dataframe\">\n",
       "  <thead>\n",
       "    <tr style=\"text-align: right;\">\n",
       "      <th></th>\n",
       "      <th>Target</th>\n",
       "      <th>Predictions</th>\n",
       "    </tr>\n",
       "    <tr>\n",
       "      <th>Date</th>\n",
       "      <th></th>\n",
       "      <th></th>\n",
       "    </tr>\n",
       "  </thead>\n",
       "  <tbody>\n",
       "    <tr>\n",
       "      <th>2023-05-16 00:00:00-04:00</th>\n",
       "      <td>1</td>\n",
       "      <td>0.0</td>\n",
       "    </tr>\n",
       "    <tr>\n",
       "      <th>2023-05-17 00:00:00-04:00</th>\n",
       "      <td>1</td>\n",
       "      <td>0.0</td>\n",
       "    </tr>\n",
       "    <tr>\n",
       "      <th>2023-05-18 00:00:00-04:00</th>\n",
       "      <td>1</td>\n",
       "      <td>0.0</td>\n",
       "    </tr>\n",
       "    <tr>\n",
       "      <th>2023-05-19 00:00:00-04:00</th>\n",
       "      <td>1</td>\n",
       "      <td>0.0</td>\n",
       "    </tr>\n",
       "    <tr>\n",
       "      <th>2023-05-22 00:00:00-04:00</th>\n",
       "      <td>0</td>\n",
       "      <td>0.0</td>\n",
       "    </tr>\n",
       "    <tr>\n",
       "      <th>...</th>\n",
       "      <td>...</td>\n",
       "      <td>...</td>\n",
       "    </tr>\n",
       "    <tr>\n",
       "      <th>2024-05-09 00:00:00-04:00</th>\n",
       "      <td>0</td>\n",
       "      <td>1.0</td>\n",
       "    </tr>\n",
       "    <tr>\n",
       "      <th>2024-05-10 00:00:00-04:00</th>\n",
       "      <td>1</td>\n",
       "      <td>1.0</td>\n",
       "    </tr>\n",
       "    <tr>\n",
       "      <th>2024-05-13 00:00:00-04:00</th>\n",
       "      <td>1</td>\n",
       "      <td>1.0</td>\n",
       "    </tr>\n",
       "    <tr>\n",
       "      <th>2024-05-14 00:00:00-04:00</th>\n",
       "      <td>0</td>\n",
       "      <td>0.0</td>\n",
       "    </tr>\n",
       "    <tr>\n",
       "      <th>2024-05-15 00:00:00-04:00</th>\n",
       "      <td>1</td>\n",
       "      <td>0.0</td>\n",
       "    </tr>\n",
       "  </tbody>\n",
       "</table>\n",
       "<p>252 rows × 2 columns</p>\n",
       "</div>"
      ],
      "text/plain": [
       "                           Target  Predictions\n",
       "Date                                          \n",
       "2023-05-16 00:00:00-04:00       1          0.0\n",
       "2023-05-17 00:00:00-04:00       1          0.0\n",
       "2023-05-18 00:00:00-04:00       1          0.0\n",
       "2023-05-19 00:00:00-04:00       1          0.0\n",
       "2023-05-22 00:00:00-04:00       0          0.0\n",
       "...                           ...          ...\n",
       "2024-05-09 00:00:00-04:00       0          1.0\n",
       "2024-05-10 00:00:00-04:00       1          1.0\n",
       "2024-05-13 00:00:00-04:00       1          1.0\n",
       "2024-05-14 00:00:00-04:00       0          0.0\n",
       "2024-05-15 00:00:00-04:00       1          0.0\n",
       "\n",
       "[252 rows x 2 columns]"
      ]
     },
     "execution_count": 32,
     "metadata": {},
     "output_type": "execute_result"
    }
   ],
   "source": [
    "predictions"
   ]
  },
  {
   "cell_type": "code",
   "execution_count": 33,
   "id": "04adeaf7",
   "metadata": {
    "execution": {
     "iopub.execute_input": "2024-05-17T03:32:08.119747Z",
     "iopub.status.busy": "2024-05-17T03:32:08.119339Z",
     "iopub.status.idle": "2024-05-17T03:32:08.130651Z",
     "shell.execute_reply": "2024-05-17T03:32:08.129395Z"
    },
    "papermill": {
     "duration": 0.028704,
     "end_time": "2024-05-17T03:32:08.133245",
     "exception": false,
     "start_time": "2024-05-17T03:32:08.104541",
     "status": "completed"
    },
    "tags": []
   },
   "outputs": [],
   "source": [
    "predictions.to_csv(\"Tesla stock predicition data.csv\", index = \"False\")"
   ]
  },
  {
   "cell_type": "code",
   "execution_count": null,
   "id": "cb220176",
   "metadata": {
    "papermill": {
     "duration": 0.013026,
     "end_time": "2024-05-17T03:32:08.159816",
     "exception": false,
     "start_time": "2024-05-17T03:32:08.146790",
     "status": "completed"
    },
    "tags": []
   },
   "outputs": [],
   "source": []
  }
 ],
 "metadata": {
  "kaggle": {
   "accelerator": "none",
   "dataSources": [],
   "dockerImageVersionId": 30698,
   "isGpuEnabled": false,
   "isInternetEnabled": true,
   "language": "python",
   "sourceType": "notebook"
  },
  "kernelspec": {
   "display_name": "Python 3",
   "language": "python",
   "name": "python3"
  },
  "language_info": {
   "codemirror_mode": {
    "name": "ipython",
    "version": 3
   },
   "file_extension": ".py",
   "mimetype": "text/x-python",
   "name": "python",
   "nbconvert_exporter": "python",
   "pygments_lexer": "ipython3",
   "version": "3.10.13"
  },
  "papermill": {
   "default_parameters": {},
   "duration": 54.775755,
   "end_time": "2024-05-17T03:32:08.955117",
   "environment_variables": {},
   "exception": null,
   "input_path": "__notebook__.ipynb",
   "output_path": "__notebook__.ipynb",
   "parameters": {},
   "start_time": "2024-05-17T03:31:14.179362",
   "version": "2.5.0"
  }
 },
 "nbformat": 4,
 "nbformat_minor": 5
}
